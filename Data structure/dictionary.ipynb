{
 "cells": [
  {
   "cell_type": "markdown",
   "id": "0444dbdc",
   "metadata": {},
   "source": [
    "- ways to declare dectionary \n",
    "- how to access key value pair\n",
    "- loops in dictionary\n",
    "- nested dictionary"
   ]
  },
  {
   "cell_type": "code",
   "execution_count": 18,
   "id": "4da8e769",
   "metadata": {},
   "outputs": [
    {
     "name": "stdout",
     "output_type": "stream",
     "text": [
      "{'name': 'alice', 'age': 7, 'class': '6th', 'school': 'LPS'}\n"
     ]
    }
   ],
   "source": [
    "student={\n",
    "    'name':'alice',\n",
    "    'age': int(input(\"enter an age\")),\n",
    "    'class': '6th',\n",
    "    'school':'LPS'\n",
    "}\n",
    "print(student)"
   ]
  },
  {
   "cell_type": "code",
   "execution_count": 19,
   "id": "f437e195",
   "metadata": {},
   "outputs": [
    {
     "name": "stdout",
     "output_type": "stream",
     "text": [
      "{'lucknow': [20, 39, 40], 'delhi': [30, 35, 40], 'chennai': [25, 28, 30]}\n"
     ]
    }
   ],
   "source": [
    "temp={\n",
    "    'lucknow':[20,39,40],\n",
    "    'delhi': [30,35,40],\n",
    "    'chennai':[25,28,30]\n",
    "}\n",
    "print(temp)"
   ]
  },
  {
   "cell_type": "code",
   "execution_count": 20,
   "id": "699e15c2",
   "metadata": {},
   "outputs": [
    {
     "name": "stdout",
     "output_type": "stream",
     "text": [
      "{'name': 'alice', 'age': 78, 'city': 'dubai'}\n"
     ]
    }
   ],
   "source": [
    "info=dict(name=\"alice\", age=78 , city='dubai')\n",
    "print(info)"
   ]
  },
  {
   "cell_type": "code",
   "execution_count": 21,
   "id": "06df1fad",
   "metadata": {},
   "outputs": [
    {
     "name": "stdout",
     "output_type": "stream",
     "text": [
      "alice\n",
      "dubai\n"
     ]
    }
   ],
   "source": [
    "print(student['name'])\n",
    "print(info['city'])"
   ]
  },
  {
   "cell_type": "code",
   "execution_count": 22,
   "id": "29552690",
   "metadata": {},
   "outputs": [
    {
     "name": "stdout",
     "output_type": "stream",
     "text": [
      "{'name': 'alice', 'age': 7, 'class': '6th', 'school': 'LPS', 'city': 'thailand'}\n"
     ]
    }
   ],
   "source": [
    "student['city']='thailand'\n",
    "print(student)"
   ]
  },
  {
   "cell_type": "code",
   "execution_count": null,
   "id": "ed4aa87d",
   "metadata": {},
   "outputs": [
    {
     "name": "stdout",
     "output_type": "stream",
     "text": [
      "dict_keys(['name', 'age', 'city'])\n",
      "dict_values(['alice', 78, 'dubai'])\n",
      "dict_items([('name', 'alice'), ('age', 78), ('city', 'dubai')])\n"
     ]
    }
   ],
   "source": [
    "info=dict(name=\"alice\", age=78 , city='dubai')\n",
    "print(info.keys())\n",
    "print(info.values())\n",
    "print(info.items())"
   ]
  },
  {
   "cell_type": "code",
   "execution_count": 24,
   "id": "01298d72",
   "metadata": {},
   "outputs": [
    {
     "name": "stdout",
     "output_type": "stream",
     "text": [
      "name:alice\n",
      "age:78\n",
      "city:dubai\n"
     ]
    }
   ],
   "source": [
    "for k,v in info.items():\n",
    "    print(f'{k}:{v}')"
   ]
  },
  {
   "cell_type": "code",
   "execution_count": 16,
   "id": "fa4eb653",
   "metadata": {},
   "outputs": [
    {
     "name": "stdout",
     "output_type": "stream",
     "text": [
      "{'emp001': {'name': 'bob', 'salary': 200000, 'debt': 'sales'}, 'emp002': {'name': 'smith', 'salary': 30000, 'debt': 'digital marketing'}, 'emp003': {'name': 'alice', 'salary': 50000, 'debt': 'IT'}}\n"
     ]
    }
   ],
   "source": [
    "company={\n",
    "    'emp001': {\n",
    "     'name':'bob',\n",
    "     'salary':200000 ,\n",
    "     'debt':'sales'\n",
    "    },\n",
    "'emp002':{\n",
    "    'name':'smith',\n",
    "    'salary':30000,\n",
    "    'debt':'digital marketing'\n",
    "    },\n",
    "'emp003':{\n",
    "    'name':'alice',\n",
    "    'salary':50000,\n",
    "    'debt':'IT'\n",
    "    }\n",
    "}\n",
    "print(company)\n"
   ]
  },
  {
   "cell_type": "code",
   "execution_count": 7,
   "id": "d627e00a",
   "metadata": {},
   "outputs": [
    {
     "name": "stdout",
     "output_type": "stream",
     "text": [
      "{'emp001': {'debt': 'sales', 'name': 'bob', 'salary': 200000},\n",
      " 'emp002': {'debt': 'digital marketing', 'name': 'smith', 'salary': 30000},\n",
      " 'emp003': {'debt': 'IT', 'name': 'alice', 'salary': 50000}}\n"
     ]
    }
   ],
   "source": [
    "from pprint import pprint\n",
    "pprint(company)"
   ]
  },
  {
   "cell_type": "code",
   "execution_count": 8,
   "id": "bb0555d0",
   "metadata": {},
   "outputs": [
    {
     "data": {
      "text/plain": [
       "30000"
      ]
     },
     "execution_count": 8,
     "metadata": {},
     "output_type": "execute_result"
    }
   ],
   "source": [
    "company['emp002']['salary']"
   ]
  },
  {
   "cell_type": "markdown",
   "id": "1d7f931c",
   "metadata": {},
   "source": [
    "#### calculate the average temperature of delhi in temp dictionary"
   ]
  },
  {
   "cell_type": "code",
   "execution_count": 2,
   "id": "79597326",
   "metadata": {},
   "outputs": [
    {
     "name": "stdout",
     "output_type": "stream",
     "text": [
      "average tempearture of delhi 36.0\n"
     ]
    }
   ],
   "source": [
    "temp = {\n",
    "    'Delhi': [34, 36, 38, 37, 35],\n",
    "    'Mumbai': [30, 31, 29, 32, 30],\n",
    "    'Kolkata': [33, 34, 32, 31, 30]}\n",
    "delhi_temp = temp['Delhi']\n",
    "average_temp = sum(delhi_temp) / len(delhi_temp)\n",
    "print(\"average tempearture of delhi\",average_temp)\n",
    "\n"
   ]
  }
 ],
 "metadata": {
  "kernelspec": {
   "display_name": "base",
   "language": "python",
   "name": "python3"
  },
  "language_info": {
   "codemirror_mode": {
    "name": "ipython",
    "version": 3
   },
   "file_extension": ".py",
   "mimetype": "text/x-python",
   "name": "python",
   "nbconvert_exporter": "python",
   "pygments_lexer": "ipython3",
   "version": "3.13.2"
  }
 },
 "nbformat": 4,
 "nbformat_minor": 5
}
