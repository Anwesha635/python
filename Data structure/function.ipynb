{
 "cells": [
  {
   "cell_type": "markdown",
   "id": "29c5961f",
   "metadata": {},
   "source": [
    "### user defined functions\n",
    "- patrameterized functions \n",
    "- non-petrameterized functions\n",
    "- return functions\n",
    "- non-return functions\n",
    "- default patrameterized functions\n",
    "- lambda functions\n",
    "\n",
    "### Built in function\n"
   ]
  },
  {
   "cell_type": "code",
   "execution_count": 31,
   "id": "37350768",
   "metadata": {},
   "outputs": [],
   "source": [
    "def greet():#function initialization\n",
    "    print('hello')\n",
    "    print('welcome to the python script!')\n",
    "    print('goodbye,thankyou')"
   ]
  },
  {
   "cell_type": "code",
   "execution_count": 32,
   "id": "b8804bfc",
   "metadata": {},
   "outputs": [
    {
     "name": "stdout",
     "output_type": "stream",
     "text": [
      "hello\n",
      "welcome to the python script!\n",
      "goodbye,thankyou\n"
     ]
    }
   ],
   "source": [
    "greet() #function call"
   ]
  },
  {
   "cell_type": "code",
   "execution_count": null,
   "id": "d2b5bffe",
   "metadata": {},
   "outputs": [],
   "source": [
    "a=10\n",
    "b=5\n",
    "def sum():\n",
    "    print(a+b)\n",
    "\n",
    "\n",
    "sum()"
   ]
  },
  {
   "cell_type": "code",
   "execution_count": null,
   "metadata": {},
   "outputs": [],
   "source": [
    "# parameterized funciton\n",
    "\n",
    "def sum(a,b): #parameters\n",
    "    print(a+b)\n",
    "\n",
    "sum(10,20) #arguments"
   ]
  },
  {
   "cell_type": "code",
   "execution_count": 66,
   "id": "bc818b6c",
   "metadata": {},
   "outputs": [
    {
     "name": "stdout",
     "output_type": "stream",
     "text": [
      "you are eligible to vote\n"
     ]
    }
   ],
   "source": [
    "def age(age):\n",
    "    if age>=18:\n",
    "        print(\"you are eligible to vote\")\n",
    "    else:\n",
    "        print(\"you are not eligible to vote\")\n",
    "\n",
    "\n",
    "age(20) #function call"
   ]
  },
  {
   "cell_type": "code",
   "execution_count": null,
   "id": "45e38531",
   "metadata": {},
   "outputs": [],
   "source": [
    "#non return function\n",
    "def avg(a,b,c):\n",
    "    print(a+b+c/3)\n",
    "    \n",
    "\n",
    "average=avg(10,20,30) #function call\n",
    "print(average) #this will not print anything because tre function does not return a value"
   ]
  },
  {
   "cell_type": "code",
   "execution_count": null,
   "metadata": {},
   "outputs": [],
   "source": [
    "#return function\n",
    "def avg(a,b,c):\n",
    "        return(a+b+c/3)\n",
    "    \n",
    "\n",
    "average=avg(10,20,30) #function call\n",
    "print(average) "
   ]
  },
  {
   "cell_type": "code",
   "execution_count": null,
   "metadata": {},
   "outputs": [],
   "source": [
    "print(average)"
   ]
  },
  {
   "cell_type": "markdown",
   "id": "d9da1db3",
   "metadata": {},
   "source": [
    "- to find a number is odd or even\n",
    "- to find the number is prime or not\n",
    "- to find square of a number\n",
    "- take a list of five numbers and return a new list with square of each number\n",
    "- take a list of 10 numbers and return a new list with only even number"
   ]
  },
  {
   "cell_type": "code",
   "execution_count": 65,
   "id": "c75a7e67",
   "metadata": {},
   "outputs": [
    {
     "name": "stdout",
     "output_type": "stream",
     "text": [
      "number is even\n"
     ]
    }
   ],
   "source": [
    "def even(num):\n",
    "    if num%2==0:\n",
    "        print('number is even')\n",
    "    else:\n",
    "        print('number is odd')\n",
    "\n",
    "even(10)\n"
   ]
  },
  {
   "cell_type": "code",
   "execution_count": 64,
   "id": "93b26290",
   "metadata": {},
   "outputs": [
    {
     "name": "stdout",
     "output_type": "stream",
     "text": [
      "number is prime\n",
      "number is prime\n",
      "number is prime\n"
     ]
    }
   ],
   "source": [
    "def prime(num):\n",
    "    if (num<2):\n",
    "        print(\"not a prime \")\n",
    "    else:\n",
    "        for i in range(2,num):\n",
    "            if num%i==0:\n",
    "                print(\"number is not prime\")\n",
    "                break\n",
    "            else:\n",
    "                print(\"number is prime\")\n",
    "\n",
    "\n",
    "prime(5)"
   ]
  },
  {
   "cell_type": "code",
   "execution_count": 17,
   "metadata": {},
   "outputs": [
    {
     "name": "stdout",
     "output_type": "stream",
     "text": [
      "4\n"
     ]
    }
   ],
   "source": [
    "def square(num):\n",
    "    a=num**2\n",
    "    print(a)\n",
    "\n",
    "\n",
    "square(2)"
   ]
  },
  {
   "cell_type": "code",
   "execution_count": 22,
   "metadata": {},
   "outputs": [
    {
     "data": {
      "text/plain": [
       "[1, 4, 9, 16]"
      ]
     },
     "execution_count": 22,
     "metadata": {},
     "output_type": "execute_result"
    }
   ],
   "source": [
    "def square_lst(num):\n",
    "    sqr=[]\n",
    "    for i in num:\n",
    "       sqr.append(i**2)\n",
    "    return(sqr)\n",
    "\n",
    "square_lst([1,2,3,4,])"
   ]
  },
  {
   "cell_type": "code",
   "execution_count": 59,
   "metadata": {},
   "outputs": [
    {
     "name": "stdout",
     "output_type": "stream",
     "text": [
      "[False, True, False, True, False, True, False, True, True, False]\n"
     ]
    }
   ],
   "source": [
    "def even(num):\n",
    "    a=[]\n",
    "    for i in num:\n",
    "            a.append(i%2==0)\n",
    "    print(a)\n",
    "    \n",
    "even([1,2,3,4,5,6,7,8,10,9])"
   ]
  },
  {
   "cell_type": "markdown",
   "id": "60d89a6e",
   "metadata": {},
   "source": [
    "### List comprehension"
   ]
  },
  {
   "cell_type": "code",
   "execution_count": 29,
   "metadata": {},
   "outputs": [
    {
     "name": "stdout",
     "output_type": "stream",
     "text": [
      "[1, 4, 9, 16, 25]\n"
     ]
    }
   ],
   "source": [
    "lst=[1,2,3,4,5]\n",
    "square=[num**2 for num in lst]\n",
    "\n",
    "print(square)"
   ]
  },
  {
   "cell_type": "code",
   "execution_count": 28,
   "metadata": {},
   "outputs": [
    {
     "data": {
      "text/plain": [
       "[1, 4, 9, 16, 25]"
      ]
     },
     "execution_count": 28,
     "metadata": {},
     "output_type": "execute_result"
    }
   ],
   "source": [
    "def square_list(numbers):\n",
    "    return[x**2 for x in numbers]\n",
    "\n",
    "square_list([1,2,3,4,5])"
   ]
  },
  {
   "cell_type": "code",
   "execution_count": 33,
   "id": "325ef9d2",
   "metadata": {},
   "outputs": [
    {
     "name": "stdout",
     "output_type": "stream",
     "text": [
      "('I love', 'USA')\n",
      "('I love', 'Uk')\n",
      "('I love', 'INDIA')\n"
     ]
    }
   ],
   "source": [
    "def my_country(country='INDIA'):\n",
    "    return 'I love',country\n",
    "print(my_country('USA'))\n",
    "print(my_country('Uk'))\n",
    "print(my_country())"
   ]
  },
  {
   "cell_type": "code",
   "execution_count": 53,
   "id": "d41f973b",
   "metadata": {},
   "outputs": [
    {
     "data": {
      "text/plain": [
       "16"
      ]
     },
     "execution_count": 53,
     "metadata": {},
     "output_type": "execute_result"
    }
   ],
   "source": [
    "def square(num):\n",
    "    return num**2\n",
    "\n",
    "square(4)"
   ]
  },
  {
   "cell_type": "markdown",
   "id": "793224d9",
   "metadata": {},
   "source": [
    "#### LAMBDA FUNCTIONS"
   ]
  },
  {
   "cell_type": "code",
   "execution_count": 35,
   "id": "0df99027",
   "metadata": {},
   "outputs": [
    {
     "name": "stdout",
     "output_type": "stream",
     "text": [
      "4\n"
     ]
    }
   ],
   "source": [
    "square=lambda num : num**2\n",
    "print(square(2))"
   ]
  },
  {
   "cell_type": "markdown",
   "id": "5ca80a61",
   "metadata": {},
   "source": [
    "- lambda funciton to check a number is odd \n",
    "- lambda function to check a character is vowel or not \n",
    "- lambda function to calculate 10% of 2000\n",
    "- lambda function to calculate a year is leap or not"
   ]
  },
  {
   "cell_type": "code",
   "execution_count": null,
   "id": "df0d25a7",
   "metadata": {},
   "outputs": [
    {
     "name": "stdout",
     "output_type": "stream",
     "text": [
      "True\n"
     ]
    }
   ],
   "source": [
    "odd=lambda num : num%2!=0\n",
    "print(odd())\n"
   ]
  },
  {
   "cell_type": "code",
   "execution_count": 38,
   "metadata": {},
   "outputs": [
    {
     "name": "stdout",
     "output_type": "stream",
     "text": [
      "False\n"
     ]
    }
   ],
   "source": [
    "vowel=lambda ch : ch in 'aeiouAEIOU'\n",
    "print(vowel('d'))"
   ]
  },
  {
   "cell_type": "code",
   "execution_count": 58,
   "id": "a838f528",
   "metadata": {},
   "outputs": [
    {
     "name": "stdout",
     "output_type": "stream",
     "text": [
      "200.0\n"
     ]
    }
   ],
   "source": [
    "calculate=lambda num : 10/100*num\n",
    "print(calculate(2000))"
   ]
  },
  {
   "cell_type": "code",
   "execution_count": 51,
   "id": "65abf855",
   "metadata": {},
   "outputs": [
    {
     "name": "stdout",
     "output_type": "stream",
     "text": [
      "True\n"
     ]
    }
   ],
   "source": [
    "leap=lambda year :(year%4==0) or (year%100==0) or (year%400==0)\n",
    "print(leap(16))"
   ]
  }
 ],
 "metadata": {
  "kernelspec": {
   "display_name": "base",
   "language": "python",
   "name": "python3"
  },
  "language_info": {
   "codemirror_mode": {
    "name": "ipython",
    "version": 3
   },
   "file_extension": ".py",
   "mimetype": "text/x-python",
   "name": "python",
   "nbconvert_exporter": "python",
   "pygments_lexer": "ipython3",
   "version": "3.13.2"
  }
 },
 "nbformat": 4,
 "nbformat_minor": 5
}
