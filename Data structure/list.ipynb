{
 "cells": [
  {
   "cell_type": "code",
   "execution_count": 1,
   "id": "201fd7ec",
   "metadata": {},
   "outputs": [
    {
     "name": "stdout",
     "output_type": "stream",
     "text": [
      "instagram whatsapp meet youtube facebook uber blinkit zepto rapido ola snapchat telegram instantmart swiggy "
     ]
    }
   ],
   "source": [
    "list=[\"instagram\",\"whatsapp\",\"meet\",\"youtube\",\"facebook\",\"uber\",\"blinkit\",\"zepto\",\"rapido\",\"ola\",\"snapchat\",\"telegram\",\"instantmart\",\"swiggy\"]\n",
    "for i in list:\n",
    "    print(i,end=' ')"
   ]
  },
  {
   "cell_type": "markdown",
   "id": "a59200ce",
   "metadata": {},
   "source": [
    "#### INDEXING AND SLICING"
   ]
  },
  {
   "cell_type": "code",
   "execution_count": 34,
   "id": "628257ca",
   "metadata": {},
   "outputs": [
    {
     "name": "stdout",
     "output_type": "stream",
     "text": [
      "['ola', 'snapchat', 'telegram', 'instantmart', 'swiggy']\n"
     ]
    }
   ],
   "source": [
    "list=[\"instagram\",\"whatsapp\",\"meet\",\"youtube\",\"facebook\",\"uber\",\"blinkit\",\"zepto\",\"rapido\",\"ola\",\"snapchat\",\"telegram\",\"instantmart\",\"swiggy\"]\n",
    "\n",
    "print(list[9:])"
   ]
  },
  {
   "cell_type": "code",
   "execution_count": 35,
   "id": "c42bbfb0",
   "metadata": {},
   "outputs": [
    {
     "name": "stdout",
     "output_type": "stream",
     "text": [
      "['swiggy', 'instantmart', 'telegram', 'snapchat', 'ola', 'rapido', 'zepto', 'blinkit', 'uber', 'facebook', 'youtube', 'meet', 'whatsapp', 'instagram']\n"
     ]
    }
   ],
   "source": [
    "print(list[::-1])"
   ]
  },
  {
   "cell_type": "code",
   "execution_count": 36,
   "id": "7a4f6bad",
   "metadata": {},
   "outputs": [
    {
     "name": "stdout",
     "output_type": "stream",
     "text": [
      "snapchat\n",
      "blinkit\n"
     ]
    }
   ],
   "source": [
    "print(list[-4])\n",
    "print(list[-8])"
   ]
  },
  {
   "cell_type": "code",
   "execution_count": 37,
   "id": "b8525f22",
   "metadata": {},
   "outputs": [
    {
     "name": "stdout",
     "output_type": "stream",
     "text": [
      "['meet', 'youtube', 'facebook']\n",
      "['meet', 'facebook']\n",
      "['instagram', 'whatsapp', 'meet', 'youtube', 'facebook', 'uber', 'blinkit', 'zepto', 'rapido', 'ola', 'snapchat', 'telegram', 'instantmart', 'swiggy']\n",
      "['instagram', 'whatsapp', 'meet', 'youtube', 'facebook']\n",
      "['meet', 'youtube', 'facebook', 'uber', 'blinkit', 'zepto', 'rapido', 'ola', 'snapchat', 'telegram', 'instantmart', 'swiggy']\n"
     ]
    }
   ],
   "source": [
    "print(list[2:5])\n",
    "print(list[2:5:2])\n",
    "print(list[:])\n",
    "print(list[:5])\n",
    "print(list[2:])"
   ]
  },
  {
   "cell_type": "markdown",
   "id": "8c244742",
   "metadata": {},
   "source": [
    "- LIST METHOD\n",
    "  - append() - to add item at th end of the list\n",
    "  - insert() - to add iten at any specific position in the list\n",
    "  - pop()    - to delete item using its index position\n",
    "  - remove() - to delete item using item name   \n",
    "  - copy()   - to make a duplicate of the list \n",
    "  - sort()   - to sort the list in the particular order\n",
    "  - extend() - to combine two list into the single list \n",
    "  - clear()  - to delete all the item from the list but not the list"
   ]
  },
  {
   "cell_type": "code",
   "execution_count": 39,
   "id": "6d41a47e",
   "metadata": {},
   "outputs": [
    {
     "name": "stdout",
     "output_type": "stream",
     "text": [
      "['instagram', 'whatsapp', 'meet', 'youtube', 'facebook', 'uber', 'blinkit', 'zepto', 'rapido', 'ola', 'snapchat', 'telegram', 'instantmart', 'swiggy', 'netflix', 'netflix']\n"
     ]
    }
   ],
   "source": [
    "list.append(\"netflix\")\n",
    "print(list)"
   ]
  },
  {
   "cell_type": "code",
   "execution_count": 40,
   "id": "6daeea81",
   "metadata": {},
   "outputs": [
    {
     "name": "stdout",
     "output_type": "stream",
     "text": [
      "['instagram', 'zomata', 'whatsapp', 'meet', 'youtube', 'facebook', 'uber', 'blinkit', 'zepto', 'rapido', 'ola', 'snapchat', 'telegram', 'instantmart', 'swiggy', 'netflix', 'netflix']\n"
     ]
    }
   ],
   "source": [
    "list.insert(1,\"zomata\")\n",
    "print(list)"
   ]
  },
  {
   "cell_type": "code",
   "execution_count": 41,
   "id": "ff231f50",
   "metadata": {},
   "outputs": [
    {
     "name": "stdout",
     "output_type": "stream",
     "text": [
      "['instagram', 'whatsapp', 'meet', 'youtube', 'facebook', 'uber', 'blinkit', 'zepto', 'rapido', 'ola', 'snapchat', 'telegram', 'instantmart', 'swiggy', 'netflix', 'netflix']\n"
     ]
    }
   ],
   "source": [
    "list.pop(1)\n",
    "print(list)"
   ]
  },
  {
   "cell_type": "code",
   "execution_count": 42,
   "id": "dd1147e4",
   "metadata": {},
   "outputs": [
    {
     "name": "stdout",
     "output_type": "stream",
     "text": [
      "['instagram', 'whatsapp', 'meet', 'youtube', 'facebook', 'uber', 'blinkit', 'zepto', 'rapido', 'ola', 'snapchat', 'telegram', 'instantmart', 'swiggy', 'netflix']\n"
     ]
    }
   ],
   "source": [
    "list.remove(\"netflix\")\n",
    "print(list)"
   ]
  },
  {
   "cell_type": "code",
   "execution_count": 44,
   "id": "5048d4c2",
   "metadata": {},
   "outputs": [
    {
     "name": "stdout",
     "output_type": "stream",
     "text": [
      "['instagram', 'whatsapp', 'meet', 'youtube', 'facebook', 'uber', 'blinkit', 'zepto', 'rapido', 'ola', 'snapchat', 'telegram', 'instantmart', 'swiggy', 'netflix']\n"
     ]
    }
   ],
   "source": [
    "list_copy=list.copy()\n",
    "print(list_copy)"
   ]
  },
  {
   "cell_type": "code",
   "execution_count": 45,
   "metadata": {},
   "outputs": [
    {
     "name": "stdout",
     "output_type": "stream",
     "text": [
      "[]\n"
     ]
    }
   ],
   "source": [
    "list_copy.clear()\n",
    "print(list_copy)"
   ]
  },
  {
   "cell_type": "code",
   "execution_count": 46,
   "metadata": {},
   "outputs": [
    {
     "name": "stdout",
     "output_type": "stream",
     "text": [
      "['instagram', 'whatsapp', 'meet', 'youtube', 'facebook', 'uber', 'blinkit', 'zepto', 'rapido', 'ola', 'snapchat', 'telegram', 'instantmart', 'swiggy', 'netflix', 'Zoom', 'Amazon']\n"
     ]
    }
   ],
   "source": [
    "list.append(\"Zoom\")\n",
    "list.append(\"Amazon\")\n",
    "print(list)"
   ]
  },
  {
   "cell_type": "code",
   "execution_count": 47,
   "metadata": {},
   "outputs": [
    {
     "name": "stdout",
     "output_type": "stream",
     "text": [
      "['Amazon', 'Zoom', 'blinkit', 'facebook', 'instagram', 'instantmart', 'meet', 'netflix', 'ola', 'rapido', 'snapchat', 'swiggy', 'telegram', 'uber', 'whatsapp', 'youtube', 'zepto']\n"
     ]
    }
   ],
   "source": [
    "list.sort()\n",
    "print(list)"
   ]
  },
  {
   "cell_type": "code",
   "execution_count": 49,
   "id": "db254677",
   "metadata": {},
   "outputs": [
    {
     "name": "stdout",
     "output_type": "stream",
     "text": [
      "['Amazon', 'Zoom', 'blinkit', 'facebook', 'instagram', 'instantmart', 'meet', 'netflix', 'ola', 'rapido', 'snapchat', 'swiggy', 'telegram', 'uber', 'whatsapp', 'youtube', 'zepto', 1, 3.5, 1, 3.5]\n"
     ]
    }
   ],
   "source": [
    "a=[1,3.5]\n",
    "list.extend(a)\n",
    "print(list)"
   ]
  },
  {
   "cell_type": "code",
   "execution_count": 50,
   "id": "0109d694",
   "metadata": {},
   "outputs": [
    {
     "name": "stdout",
     "output_type": "stream",
     "text": [
      "['ak', 'ash', 'anu', 'ashu']\n"
     ]
    }
   ],
   "source": [
    "lst=[\"ak\",\"ash\",\"anu\",\"ashu\"]\n",
    "print(lst)"
   ]
  },
  {
   "cell_type": "code",
   "execution_count": 52,
   "id": "24649eb4",
   "metadata": {},
   "outputs": [
    {
     "name": "stdout",
     "output_type": "stream",
     "text": [
      "['ak', 'ash', 'anu', 'ashu', 'shiv']\n"
     ]
    }
   ],
   "source": [
    "lst.append(\"shiv\")\n",
    "print(lst)"
   ]
  },
  {
   "cell_type": "code",
   "execution_count": 53,
   "id": "c666e1f1",
   "metadata": {},
   "outputs": [
    {
     "name": "stdout",
     "output_type": "stream",
     "text": [
      "['ak', 'ash', 'anu', 'divya', 'ashu', 'shiv']\n"
     ]
    }
   ],
   "source": [
    "lst.insert(3,\"divya\")\n",
    "print(lst)"
   ]
  },
  {
   "cell_type": "code",
   "execution_count": 54,
   "id": "d26fc214",
   "metadata": {},
   "outputs": [
    {
     "name": "stdout",
     "output_type": "stream",
     "text": [
      "['ak', 'ash', 'anu', 'ashu', 'shiv']\n"
     ]
    }
   ],
   "source": [
    "lst.pop(3)\n",
    "print(lst)"
   ]
  },
  {
   "cell_type": "code",
   "execution_count": 55,
   "metadata": {},
   "outputs": [
    {
     "name": "stdout",
     "output_type": "stream",
     "text": [
      "['ak', 'anu', 'ashu', 'shiv']\n"
     ]
    }
   ],
   "source": [
    "lst.remove(\"ash\")\n",
    "print(lst)"
   ]
  },
  {
   "cell_type": "code",
   "execution_count": 56,
   "metadata": {},
   "outputs": [
    {
     "name": "stdout",
     "output_type": "stream",
     "text": [
      "['ak', 'anu', 'ashu', 'shiv']\n"
     ]
    }
   ],
   "source": [
    "copy=lst.copy()\n",
    "print(copy)"
   ]
  },
  {
   "cell_type": "code",
   "execution_count": 57,
   "id": "c575514b",
   "metadata": {},
   "outputs": [
    {
     "name": "stdout",
     "output_type": "stream",
     "text": [
      "[]\n"
     ]
    }
   ],
   "source": [
    "copy.clear()\n",
    "print(copy)"
   ]
  },
  {
   "cell_type": "code",
   "execution_count": 58,
   "id": "c8be4576",
   "metadata": {},
   "outputs": [
    {
     "name": "stdout",
     "output_type": "stream",
     "text": [
      "['ak', 'anu', 'ashu', 'shiv', 'Divya']\n"
     ]
    }
   ],
   "source": [
    "lst.append(\"Divya\")\n",
    "print(lst)"
   ]
  },
  {
   "cell_type": "code",
   "execution_count": 59,
   "id": "2890175d",
   "metadata": {},
   "outputs": [
    {
     "name": "stdout",
     "output_type": "stream",
     "text": [
      "['Divya', 'ak', 'anu', 'ashu', 'shiv']\n"
     ]
    }
   ],
   "source": [
    "lst.sort()\n",
    "print(lst)"
   ]
  },
  {
   "cell_type": "code",
   "execution_count": 60,
   "id": "c4bc8459",
   "metadata": {},
   "outputs": [
    {
     "name": "stdout",
     "output_type": "stream",
     "text": [
      "['Divya', 'ak', 'anu', 'ashu', 'shiv', 1, 2, 3]\n"
     ]
    }
   ],
   "source": [
    "a=[1,2,3]\n",
    "lst.extend(a)\n",
    "print(lst)"
   ]
  }
 ],
 "metadata": {
  "kernelspec": {
   "display_name": "base",
   "language": "python",
   "name": "python3"
  },
  "language_info": {
   "codemirror_mode": {
    "name": "ipython",
    "version": 3
   },
   "file_extension": ".py",
   "mimetype": "text/x-python",
   "name": "python",
   "nbconvert_exporter": "python",
   "pygments_lexer": "ipython3",
   "version": "3.13.2"
  }
 },
 "nbformat": 4,
 "nbformat_minor": 5
}
