{
 "cells": [
  {
   "cell_type": "markdown",
   "id": "ee8ba065",
   "metadata": {},
   "source": [
    "- sets is a collection of unique items.\n",
    "- it doesnot contain duplicates items.\n",
    "- it is unordered .\n",
    "- it uses curly brases{}."
   ]
  },
  {
   "cell_type": "code",
   "execution_count": 1,
   "id": "1b03c0db",
   "metadata": {},
   "outputs": [
    {
     "name": "stdout",
     "output_type": "stream",
     "text": [
      "{'apple', 'banana', 'cherry'}\n"
     ]
    }
   ],
   "source": [
    "fruits={\"apple\",\"banana\",\"cherry\"}\n",
    "print(fruits)"
   ]
  },
  {
   "cell_type": "code",
   "execution_count": 3,
   "id": "12c21d97",
   "metadata": {},
   "outputs": [
    {
     "name": "stdout",
     "output_type": "stream",
     "text": [
      "{1, 2, 3, 4, 5}\n"
     ]
    }
   ],
   "source": [
    "nums={1,2,3,1,2,4,5}\n",
    "print(nums)"
   ]
  },
  {
   "cell_type": "markdown",
   "id": "da3b730a",
   "metadata": {},
   "source": [
    "# method 1\n",
    "s1={10,11,12}\n",
    " \n",
    "\n",
    " # method  2\n",
    "  s2=set([10,11,13])"
   ]
  },
  {
   "cell_type": "code",
   "execution_count": 4,
   "id": "6c8c05eb",
   "metadata": {},
   "outputs": [
    {
     "name": "stdout",
     "output_type": "stream",
     "text": [
      "{1, 2, 3}\n"
     ]
    }
   ],
   "source": [
    "s={1,2}\n",
    "s.add(3)\n",
    "print(s)"
   ]
  },
  {
   "cell_type": "code",
   "execution_count": 8,
   "id": "ca0e6944",
   "metadata": {},
   "outputs": [
    {
     "name": "stdout",
     "output_type": "stream",
     "text": [
      "{1, 2, 3, 4, 5, 6}\n"
     ]
    }
   ],
   "source": [
    "# add multipe values   .add()\n",
    "\n",
    "\n",
    "s={1,2,3}\n",
    "s.update([4,5,6])\n",
    "print(s)\n"
   ]
  },
  {
   "cell_type": "code",
   "execution_count": 10,
   "id": "f7f16968",
   "metadata": {},
   "outputs": [
    {
     "name": "stdout",
     "output_type": "stream",
     "text": [
      "{40, 10, 30}\n"
     ]
    }
   ],
   "source": [
    "# Remove or discard items   .remove()  or .discard()\n",
    "\n",
    "\n",
    "s={10,20,30,40}\n",
    "s.remove(20) \n",
    "print(s) \n",
    "  \n",
    "# discard function will not give any error\n",
    "\n",
    "s.discard(100)\n"
   ]
  },
  {
   "cell_type": "code",
   "execution_count": 12,
   "metadata": {},
   "outputs": [
    {
     "name": "stdout",
     "output_type": "stream",
     "text": [
      "True\n",
      "False\n"
     ]
    }
   ],
   "source": [
    "# to check whether the item is present or not\n",
    "\n",
    "colours={'red','yellow','blue','pink'}\n",
    "print('red' in colours)\n",
    "print('green' in colours)"
   ]
  },
  {
   "cell_type": "code",
   "execution_count": 13,
   "id": "5f403160",
   "metadata": {},
   "outputs": [
    {
     "name": "stdout",
     "output_type": "stream",
     "text": [
      "3\n"
     ]
    }
   ],
   "source": [
    "nums={1,2,3}\n",
    "print(len(nums))"
   ]
  },
  {
   "cell_type": "code",
   "execution_count": 14,
   "id": "61f1281f",
   "metadata": {},
   "outputs": [
    {
     "name": "stdout",
     "output_type": "stream",
     "text": [
      "set()\n"
     ]
    }
   ],
   "source": [
    "a={2,3,4}\n",
    "a.clear()\n",
    "print(a)"
   ]
  },
  {
   "cell_type": "code",
   "execution_count": 15,
   "id": "b4994c96",
   "metadata": {},
   "outputs": [
    {
     "name": "stdout",
     "output_type": "stream",
     "text": [
      "{1, 2, 3, 4}\n",
      "{2}\n",
      "{1, 3}\n"
     ]
    }
   ],
   "source": [
    "a={1,2,3}\n",
    "b={2,4}\n",
    "print(a.union(b))\n",
    "print(a.intersection(b))\n",
    "print(a.difference(b))"
   ]
  }
 ],
 "metadata": {
  "kernelspec": {
   "display_name": "base",
   "language": "python",
   "name": "python3"
  },
  "language_info": {
   "codemirror_mode": {
    "name": "ipython",
    "version": 3
   },
   "file_extension": ".py",
   "mimetype": "text/x-python",
   "name": "python",
   "nbconvert_exporter": "python",
   "pygments_lexer": "ipython3",
   "version": "3.13.2"
  }
 },
 "nbformat": 4,
 "nbformat_minor": 5
}
