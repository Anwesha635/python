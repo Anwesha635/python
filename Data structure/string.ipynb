{
 "cells": [
  {
   "cell_type": "code",
   "execution_count": 10,
   "id": "f293ac5f",
   "metadata": {},
   "outputs": [
    {
     "name": "stdout",
     "output_type": "stream",
     "text": [
      "anwesha\n",
      "lucknow\n"
     ]
    }
   ],
   "source": [
    "name='anwesha'\n",
    "city='lucknow'\n",
    "print(name)\n",
    "print(city)"
   ]
  },
  {
   "cell_type": "markdown",
   "id": "2ed56072",
   "metadata": {},
   "source": [
    "##### how to declare a string"
   ]
  },
  {
   "cell_type": "code",
   "execution_count": 11,
   "id": "0e0b3761",
   "metadata": {},
   "outputs": [
    {
     "name": "stdout",
     "output_type": "stream",
     "text": [
      "hello\n",
      "python is fun\n"
     ]
    }
   ],
   "source": [
    "text1='hello'\n",
    "text2='python is fun'\n",
    "print(text1)\n",
    "print(text2)"
   ]
  },
  {
   "cell_type": "code",
   "execution_count": 12,
   "id": "c0ca0cc0",
   "metadata": {},
   "outputs": [
    {
     "name": "stdout",
     "output_type": "stream",
     "text": [
      "i love python\n"
     ]
    }
   ],
   "source": [
    "# printing a string\n",
    "msg='i love python'\n",
    "print(msg)"
   ]
  },
  {
   "cell_type": "code",
   "execution_count": 13,
   "id": "a67757d4",
   "metadata": {},
   "outputs": [
    {
     "name": "stdout",
     "output_type": "stream",
     "text": [
      "A\n",
      "P\n",
      "E\n"
     ]
    }
   ],
   "source": [
    "#string indexing \n",
    "word='APPLE'\n",
    "print(word[0])\n",
    "print(word[1])\n",
    "print(word[4])\n"
   ]
  },
  {
   "cell_type": "code",
   "execution_count": 14,
   "id": "06ce3f88",
   "metadata": {},
   "outputs": [
    {
     "name": "stdout",
     "output_type": "stream",
     "text": [
      "E\n",
      "L\n"
     ]
    }
   ],
   "source": [
    "# negative indexing\n",
    "print(word[-1])\n",
    "print(word[-2])\n"
   ]
  },
  {
   "cell_type": "code",
   "execution_count": 15,
   "metadata": {},
   "outputs": [
    {
     "name": "stdout",
     "output_type": "stream",
     "text": [
      "Good Morning\n"
     ]
    }
   ],
   "source": [
    "#string concatenation\n",
    "first='Good'\n",
    "second='Morning'\n",
    "print(first+\" \"+second)"
   ]
  },
  {
   "cell_type": "code",
   "execution_count": 16,
   "id": "7435c6fe",
   "metadata": {},
   "outputs": [
    {
     "name": "stdout",
     "output_type": "stream",
     "text": [
      "I am 15 years old\n"
     ]
    }
   ],
   "source": [
    "# string with numbers\n",
    "age=15\n",
    "print(\"I am \" +str(age)+\" years old\" )"
   ]
  },
  {
   "cell_type": "markdown",
   "id": "2727d761",
   "metadata": {},
   "source": [
    "### useful string functions\n",
    "- len()-length batata hai\n",
    "- upper()-convert into captial\n",
    "- lower()- convert into small\n",
    "- replace()- replace the word\n",
    "- count()- count the occurence of the letter\n",
    "- strip()- remove all the extra spaces\n"
   ]
  },
  {
   "cell_type": "code",
   "execution_count": 17,
   "id": "9cb004a5",
   "metadata": {},
   "outputs": [
    {
     "name": "stdout",
     "output_type": "stream",
     "text": [
      "hello     world\n"
     ]
    }
   ],
   "source": [
    "msg=  '  hello     world  '\n",
    "print(msg.strip())"
   ]
  },
  {
   "cell_type": "code",
   "execution_count": 18,
   "id": "2e03d070",
   "metadata": {},
   "outputs": [
    {
     "name": "stdout",
     "output_type": "stream",
     "text": [
      "mondsy\n"
     ]
    }
   ],
   "source": [
    "day='monday'\n",
    "print(day.replace(\"a\",\"s\"))"
   ]
  },
  {
   "cell_type": "code",
   "execution_count": 19,
   "id": "5b1faefb",
   "metadata": {},
   "outputs": [
    {
     "name": "stdout",
     "output_type": "stream",
     "text": [
      "2\n"
     ]
    }
   ],
   "source": [
    "word='madam'\n",
    "print(word.count(\"a\"))"
   ]
  },
  {
   "cell_type": "code",
   "execution_count": 20,
   "id": "0aacfde3",
   "metadata": {},
   "outputs": [
    {
     "name": "stdout",
     "output_type": "stream",
     "text": [
      "False\n"
     ]
    }
   ],
   "source": [
    "name=\"anwesha\"\n",
    "print(name.startswith(\"e\"))"
   ]
  },
  {
   "cell_type": "code",
   "execution_count": 21,
   "id": "726877e4",
   "metadata": {},
   "outputs": [
    {
     "name": "stdout",
     "output_type": "stream",
     "text": [
      "False\n"
     ]
    }
   ],
   "source": [
    "name=\"anwesha\"\n",
    "print(name.endswith(\"e\"))"
   ]
  },
  {
   "cell_type": "code",
   "execution_count": 22,
   "id": "70e47398",
   "metadata": {},
   "outputs": [
    {
     "name": "stdout",
     "output_type": "stream",
     "text": [
      "5\n"
     ]
    }
   ],
   "source": [
    "word=\"hello\"\n",
    "print(len(word))"
   ]
  },
  {
   "cell_type": "code",
   "execution_count": 23,
   "id": "19c54575",
   "metadata": {},
   "outputs": [
    {
     "name": "stdout",
     "output_type": "stream",
     "text": [
      "HELLO\n"
     ]
    }
   ],
   "source": [
    "print(word.upper())"
   ]
  },
  {
   "cell_type": "code",
   "execution_count": 24,
   "id": "e894c248",
   "metadata": {},
   "outputs": [
    {
     "name": "stdout",
     "output_type": "stream",
     "text": [
      "python\n"
     ]
    }
   ],
   "source": [
    "name=\"PYTHON\"\n",
    "print(name.lower())"
   ]
  },
  {
   "cell_type": "code",
   "execution_count": 25,
   "metadata": {},
   "outputs": [
    {
     "name": "stdout",
     "output_type": "stream",
     "text": [
      "Python Is Fun\n"
     ]
    }
   ],
   "source": [
    "text=\"python is fun\"\n",
    "print(text.title())"
   ]
  },
  {
   "cell_type": "code",
   "execution_count": 26,
   "id": "d8e1e5d2",
   "metadata": {},
   "outputs": [
    {
     "name": "stdout",
     "output_type": "stream",
     "text": [
      "0\n"
     ]
    }
   ],
   "source": [
    "sen=\"I love python language\"\n",
    "print(sen.find(\"I\"))"
   ]
  },
  {
   "cell_type": "code",
   "execution_count": 27,
   "metadata": {},
   "outputs": [
    {
     "name": "stdout",
     "output_type": "stream",
     "text": [
      "ana\n"
     ]
    }
   ],
   "source": [
    "# slicing string\n",
    "\n",
    "word ='banana'\n",
    "print(word[1:4]) #print the character from the index 1 to 3 (not include 4)"
   ]
  },
  {
   "cell_type": "code",
   "execution_count": 28,
   "id": "02619375",
   "metadata": {},
   "outputs": [
    {
     "name": "stdout",
     "output_type": "stream",
     "text": [
      "hihihi\n"
     ]
    }
   ],
   "source": [
    "# string replication\n",
    "\n",
    "word='hi'\n",
    "print(word*3)"
   ]
  },
  {
   "cell_type": "code",
   "execution_count": 29,
   "id": "a651c766",
   "metadata": {},
   "outputs": [
    {
     "name": "stdout",
     "output_type": "stream",
     "text": [
      "True\n",
      "True\n",
      "False\n"
     ]
    }
   ],
   "source": [
    "# check substrig (in/not in)\n",
    " \n",
    "text='i know python'\n",
    "print('know' in text)\n",
    "print('java' not in text)\n",
    "print('java' in text)"
   ]
  },
  {
   "cell_type": "code",
   "execution_count": 30,
   "id": "bba6dd83",
   "metadata": {},
   "outputs": [
    {
     "name": "stdout",
     "output_type": "stream",
     "text": [
      "rose are red\n",
      "violet are blue\n"
     ]
    }
   ],
   "source": [
    "# mulitline string\n",
    "\n",
    "poem='''rose are red\n",
    "violet are blue'''\n",
    "print(poem)"
   ]
  },
  {
   "cell_type": "code",
   "execution_count": 31,
   "id": "61e8853f",
   "metadata": {},
   "outputs": [
    {
     "name": "stdout",
     "output_type": "stream",
     "text": [
      "a\n",
      "k\n",
      "a\n",
      "n\n",
      "s\n",
      "h\n",
      "a\n"
     ]
    }
   ],
   "source": [
    "word='akansha'\n",
    "for i in range(len(word)):\n",
    "    print(word[i])"
   ]
  },
  {
   "cell_type": "code",
   "execution_count": 32,
   "id": "35ea2625",
   "metadata": {},
   "outputs": [
    {
     "name": "stdout",
     "output_type": "stream",
     "text": [
      "index 0 : a\n",
      "index 1 : k\n",
      "index 2 : a\n",
      "index 3 : n\n",
      "index 4 : s\n",
      "index 5 : h\n",
      "index 6 : a\n"
     ]
    }
   ],
   "source": [
    "text='akansha'\n",
    "for i in range(len(text)):\n",
    "    print(f'index {i} : {text[i]}')"
   ]
  },
  {
   "cell_type": "markdown",
   "id": "b6575025",
   "metadata": {},
   "source": [
    "### EXERCISES\n",
    " 1. \n",
    "\n",
    " 2. Print the first and last character of the string \"python\".\n",
    " 3. find the length of the string \"hello world\" using len().\n",
    " 4. concatenate the string \"good\" and \"morning\".\n",
    " 5. convert \"hello\" to uppercase using a string method.\n",
    " 6. print the character of the index 2 of the string \"school\".\n",
    " 7. check whether a is present in the word \"banana\" using in.\n",
    " 8. take a sentence and count how many time \"a\" appear using .count().\n",
    " 9. create a string with your favourite fruit  and repaeat it three times using *.\n",
    " 10. split the sentence  \"python is fun\" into a list using .split(). "
   ]
  },
  {
   "cell_type": "code",
   "execution_count": 33,
   "id": "0ae2ef8a",
   "metadata": {},
   "outputs": [
    {
     "name": "stdout",
     "output_type": "stream",
     "text": [
      "p\n",
      "n\n"
     ]
    }
   ],
   "source": [
    "word=\"python\"\n",
    "print(word[0])\n",
    "print(word[-1])"
   ]
  },
  {
   "cell_type": "code",
   "execution_count": 34,
   "id": "734efd0f",
   "metadata": {},
   "outputs": [
    {
     "name": "stdout",
     "output_type": "stream",
     "text": [
      "11\n"
     ]
    }
   ],
   "source": [
    "word=\"hello world\"\n",
    "print(len( word))"
   ]
  },
  {
   "cell_type": "code",
   "execution_count": 35,
   "id": "4d406b43",
   "metadata": {},
   "outputs": [
    {
     "name": "stdout",
     "output_type": "stream",
     "text": [
      "good morning\n"
     ]
    }
   ],
   "source": [
    "a=\"good\"\n",
    "b=\"morning\"\n",
    "print( a  + \" \" +  b)"
   ]
  },
  {
   "cell_type": "code",
   "execution_count": 36,
   "id": "06255865",
   "metadata": {},
   "outputs": [
    {
     "name": "stdout",
     "output_type": "stream",
     "text": [
      "HELLO\n"
     ]
    }
   ],
   "source": [
    "a='hello'\n",
    "print(a.upper())"
   ]
  },
  {
   "cell_type": "code",
   "execution_count": 37,
   "id": "b23cfc98",
   "metadata": {},
   "outputs": [
    {
     "name": "stdout",
     "output_type": "stream",
     "text": [
      "h\n"
     ]
    }
   ],
   "source": [
    "word='school'\n",
    "print(word[2])"
   ]
  },
  {
   "cell_type": "code",
   "execution_count": 38,
   "id": "8fc6698a",
   "metadata": {},
   "outputs": [
    {
     "name": "stdout",
     "output_type": "stream",
     "text": [
      "True\n"
     ]
    }
   ],
   "source": [
    "a='banana'\n",
    "print(a in \"banana\")"
   ]
  },
  {
   "cell_type": "code",
   "execution_count": 39,
   "id": "15eb8762",
   "metadata": {},
   "outputs": [
    {
     "name": "stdout",
     "output_type": "stream",
     "text": [
      "2\n"
     ]
    }
   ],
   "source": [
    "b=\"I am a good girl\"\n",
    "print(b.count(\"a\"))"
   ]
  },
  {
   "cell_type": "code",
   "execution_count": 40,
   "id": "b4bd2b11",
   "metadata": {},
   "outputs": [
    {
     "name": "stdout",
     "output_type": "stream",
     "text": [
      "('apple', 'mango', 'banana', 'apple', 'mango', 'banana', 'apple', 'mango', 'banana')\n"
     ]
    }
   ],
   "source": [
    "fruits=('apple','mango','banana')\n",
    "print(fruits*3)"
   ]
  },
  {
   "cell_type": "code",
   "execution_count": 41,
   "id": "7814ff86",
   "metadata": {},
   "outputs": [
    {
     "name": "stdout",
     "output_type": "stream",
     "text": [
      "['python', 'is', 'fun']\n"
     ]
    }
   ],
   "source": [
    "a=('python is fun')\n",
    "print(a.split())"
   ]
  },
  {
   "cell_type": "markdown",
   "id": "36b200f8",
   "metadata": {},
   "source": [
    "11. Slice the string \"Programming\" to get \"gram\".\n",
    "\n",
    "12. Reverse the string \"Akshita\" using slicing.\n",
    "\n",
    "13. Replace \"morning\" with \"evening\" in \"Good morning!\".\n",
    "\n",
    "14. Check whether the string \"HELLO\" is uppercase using .isupper().\n",
    "\n",
    "15. Input a string and print how many vowels are in it.\n",
    "\n",
    "16. Write a program to print only the vowels from \"education\".\n",
    "\n",
    "17. Join the list [\"Learn\", \"Python\"] into a single string.\n",
    "\n",
    "18. Check if the string \"apple\" starts with \"a\" and ends with \"e\".\n",
    "\n",
    "19. Split a 3-line string using .splitlines() and print each line.\n",
    "\n",
    "20. Input a sentence and print each word on a new line using loop."
   ]
  },
  {
   "cell_type": "code",
   "execution_count": 42,
   "id": "0e2d85d7",
   "metadata": {},
   "outputs": [
    {
     "name": "stdout",
     "output_type": "stream",
     "text": [
      "gram\n"
     ]
    }
   ],
   "source": [
    "a=\"programming\"\n",
    "print(a[3:7])"
   ]
  },
  {
   "cell_type": "code",
   "execution_count": 43,
   "id": "3db7d1c3",
   "metadata": {},
   "outputs": [
    {
     "name": "stdout",
     "output_type": "stream",
     "text": [
      "atihskA\n"
     ]
    }
   ],
   "source": [
    "b=\"Akshita\"\n",
    "print(b[::-1])"
   ]
  },
  {
   "cell_type": "code",
   "execution_count": 44,
   "id": "35e6e38c",
   "metadata": {},
   "outputs": [
    {
     "name": "stdout",
     "output_type": "stream",
     "text": [
      "good evening\n"
     ]
    }
   ],
   "source": [
    "a='good morning'\n",
    "print(a.replace('morning','evening'))"
   ]
  },
  {
   "cell_type": "code",
   "execution_count": 45,
   "metadata": {},
   "outputs": [
    {
     "name": "stdout",
     "output_type": "stream",
     "text": [
      "True\n"
     ]
    }
   ],
   "source": [
    "c='HELLO'\n",
    "print(c.isupper())"
   ]
  },
  {
   "cell_type": "code",
   "execution_count": 5,
   "metadata": {},
   "outputs": [
    {
     "name": "stdout",
     "output_type": "stream",
     "text": [
      "9\n"
     ]
    }
   ],
   "source": [
    "d='I am a goooood girl'\n",
    "v=0\n",
    "for c in d:\n",
    "    if (c.isalpha()==True):\n",
    "        if(c in (\"aeiouAEIOU\")):\n",
    "            v=v+1\n",
    "print(v)\n",
    "    \n",
    "   \n",
    "\n"
   ]
  },
  {
   "cell_type": "code",
   "execution_count": 3,
   "id": "4079967d",
   "metadata": {},
   "outputs": [
    {
     "name": "stdout",
     "output_type": "stream",
     "text": [
      "5\n"
     ]
    }
   ],
   "source": [
    "a='education'\n",
    "v=0\n",
    "for c in a:\n",
    "    if (c.isalpha()==True):\n",
    "        if(c in (\"aeiouAEIOU\")):\n",
    "            v=v+1\n",
    "print(v)\n",
    "    \n",
    "   "
   ]
  },
  {
   "cell_type": "code",
   "execution_count": null,
   "metadata": {},
   "outputs": [],
   "source": [
    "a='apple'\n",
    "print(a.startswith('a'))\n",
    "print(a.endswith('e'))"
   ]
  },
  {
   "cell_type": "code",
   "execution_count": null,
   "id": "f1794f82",
   "metadata": {},
   "outputs": [
    {
     "name": "stdout",
     "output_type": "stream",
     "text": [
      "my name is anwesha.\n",
      "python is a programming.\n",
      "python is fun.\n"
     ]
    }
   ],
   "source": [
    "a=\"\"\"my name is anwesha.\n",
    "python is a programming.\n",
    "python is fun.\"\"\"\n",
    "d=a.splitlines()\n",
    "for b in d:\n",
    "    print(b)\n",
    "    "
   ]
  },
  {
   "cell_type": "code",
   "execution_count": null,
   "id": "246cb29a",
   "metadata": {},
   "outputs": [
    {
     "name": "stdout",
     "output_type": "stream",
     "text": [
      "python\n",
      "is\n",
      "programming\n"
     ]
    }
   ],
   "source": [
    "a='python is programming'\n",
    "c=a.split()\n",
    "for b in c:\n",
    "    print(b)"
   ]
  },
  {
   "cell_type": "markdown",
   "id": "1279e67b",
   "metadata": {},
   "source": [
    "### QUESTIONS\n",
    "\n",
    "1.Create a string and print it.\n",
    "\n",
    "2.Take a string input and print it's length.\n",
    "\n",
    "3.Print the last word of the string Python is great using slices.\n",
    "\n",
    "4.Print the each word in different line of string python is everywhere.\n",
    "\n",
    "5.Print the string Hello World! in reverse.\n",
    "\n",
    "6.Convert the string How are you? in uppercase.\n",
    "\n",
    "7.Convert the string How Is It Going? in lowercase.\n",
    "\n",
    "8.Join the following list by spaces( ) and print the result.\n",
    "words = ['Python', 'is', 'easy', 'to', 'learn']\n"
   ]
  },
  {
   "cell_type": "code",
   "execution_count": null,
   "id": "4e027fe6",
   "metadata": {},
   "outputs": [
    {
     "name": "stdout",
     "output_type": "stream",
     "text": [
      "Have a good day\n"
     ]
    }
   ],
   "source": [
    "a=\"Have a good day\"\n",
    "print(a)"
   ]
  },
  {
   "cell_type": "code",
   "execution_count": null,
   "id": "e630aba2",
   "metadata": {},
   "outputs": [
    {
     "name": "stdout",
     "output_type": "stream",
     "text": [
      "15\n"
     ]
    }
   ],
   "source": [
    "b=\"python is programming language\"\n",
    "print(len(a))"
   ]
  },
  {
   "cell_type": "code",
   "execution_count": null,
   "id": "100be552",
   "metadata": {},
   "outputs": [
    {
     "name": "stdout",
     "output_type": "stream",
     "text": [
      "t\n"
     ]
    }
   ],
   "source": [
    "d='Python is great'\n",
    "print(d[-1])"
   ]
  },
  {
   "cell_type": "code",
   "execution_count": null,
   "metadata": {},
   "outputs": [
    {
     "name": "stdout",
     "output_type": "stream",
     "text": [
      "Python\n",
      "is\n",
      "everywhere\n"
     ]
    }
   ],
   "source": [
    "s='Python is everywhere'\n",
    "j=(s.split())\n",
    "for i in j:\n",
    "    print(i)"
   ]
  },
  {
   "cell_type": "code",
   "execution_count": null,
   "id": "37e02605",
   "metadata": {},
   "outputs": [
    {
     "name": "stdout",
     "output_type": "stream",
     "text": [
      "!dlrow olleh\n"
     ]
    }
   ],
   "source": [
    "s='hello world!'\n",
    "print(s[::-1])"
   ]
  },
  {
   "cell_type": "code",
   "execution_count": null,
   "id": "03186d38",
   "metadata": {},
   "outputs": [
    {
     "name": "stdout",
     "output_type": "stream",
     "text": [
      "HOW ARE YOU\n"
     ]
    }
   ],
   "source": [
    "d='how are you ?'\n",
    "print(d.upper())"
   ]
  },
  {
   "cell_type": "code",
   "execution_count": null,
   "id": "7b889c57",
   "metadata": {},
   "outputs": [
    {
     "name": "stdout",
     "output_type": "stream",
     "text": [
      "how is it going?\n"
     ]
    }
   ],
   "source": [
    "f='HOW IS IT GOING?'\n",
    "print(f.lower())"
   ]
  },
  {
   "cell_type": "code",
   "execution_count": 6,
   "id": "2c425505",
   "metadata": {},
   "outputs": [
    {
     "ename": "AttributeError",
     "evalue": "'list' object has no attribute 'strip'",
     "output_type": "error",
     "traceback": [
      "\u001b[31m---------------------------------------------------------------------------\u001b[39m",
      "\u001b[31mAttributeError\u001b[39m                            Traceback (most recent call last)",
      "\u001b[36mCell\u001b[39m\u001b[36m \u001b[39m\u001b[32mIn[6]\u001b[39m\u001b[32m, line 3\u001b[39m\n\u001b[32m      1\u001b[39m \u001b[38;5;66;03m#8\u001b[39;00m\n\u001b[32m      2\u001b[39m j= [\u001b[33m'\u001b[39m\u001b[33mPython\u001b[39m\u001b[33m'\u001b[39m, \u001b[33m'\u001b[39m\u001b[33mis\u001b[39m\u001b[33m'\u001b[39m, \u001b[33m'\u001b[39m\u001b[33measy\u001b[39m\u001b[33m'\u001b[39m, \u001b[33m'\u001b[39m\u001b[33mto\u001b[39m\u001b[33m'\u001b[39m, \u001b[33m'\u001b[39m\u001b[33mlearn\u001b[39m\u001b[33m'\u001b[39m]\n\u001b[32m----> \u001b[39m\u001b[32m3\u001b[39m \u001b[38;5;28mprint\u001b[39m(\u001b[43mj\u001b[49m\u001b[43m.\u001b[49m\u001b[43mstrip\u001b[49m())\n",
      "\u001b[31mAttributeError\u001b[39m: 'list' object has no attribute 'strip'"
     ]
    }
   ],
   "source": [
    "#8\n",
    "j= ['Python', 'is', 'easy', 'to', 'learn']\n",
    "print(j.strip())\n"
   ]
  },
  {
   "cell_type": "markdown",
   "id": "ef2d9dad",
   "metadata": {},
   "source": [
    "9.Print a multiline string using a single print.\n",
    "\n",
    "10.Print this string to move to newline '\\n' is used. (results should look exactly like the provided string).\n",
    "\n",
    "11.Print a variable with some text using a single print function, output should look like following.\n",
    "    the variable is 15\n",
    "\n",
    "12.concatenate the following strings and print the result\n",
    "s1 = 'python '\n",
    "s2 = 'is '\n",
    "s3 = 'great.'\n",
    "\n",
    "13.Print # 20 times without using a loop.\n",
    "\n",
    "14.Print numbers from 1 to 9, each on a seperate line, followed by a dot, output should look like the following-\n",
    "1.\n",
    "2.\n",
    "3.\n",
    "\n",
    "15.Ask user to input a sentence and print each word on a different line.\n",
    "\n",
    "16.Ask user to input a string and check if the string ends with '?'.\n",
    "\n",
    "17.Ask user to input a string and print how many times e appeared in the string.\n",
    "\n",
    "18.Check if the user input is a number.\n",
    "\n",
    "19.Remove the extra spaces in beginning and in the end of the following string-\n",
    "   text = '   this is not a good string           '\n",
    "\n"
   ]
  },
  {
   "cell_type": "code",
   "execution_count": null,
   "id": "29a79b3b",
   "metadata": {},
   "outputs": [],
   "source": []
  },
  {
   "cell_type": "code",
   "execution_count": null,
   "id": "fcd9f1f2",
   "metadata": {},
   "outputs": [],
   "source": []
  },
  {
   "cell_type": "code",
   "execution_count": null,
   "id": "31c85220",
   "metadata": {},
   "outputs": [],
   "source": []
  },
  {
   "cell_type": "code",
   "execution_count": null,
   "id": "04fbe50a",
   "metadata": {},
   "outputs": [],
   "source": []
  }
 ],
 "metadata": {
  "kernelspec": {
   "display_name": "base",
   "language": "python",
   "name": "python3"
  },
  "language_info": {
   "codemirror_mode": {
    "name": "ipython",
    "version": 3
   },
   "file_extension": ".py",
   "mimetype": "text/x-python",
   "name": "python",
   "nbconvert_exporter": "python",
   "pygments_lexer": "ipython3",
   "version": "3.13.2"
  }
 },
 "nbformat": 4,
 "nbformat_minor": 5
}
