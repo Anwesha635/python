{
 "cells": [
  {
   "cell_type": "code",
   "execution_count": 2,
   "metadata": {},
   "outputs": [
    {
     "name": "stdout",
     "output_type": "stream",
     "text": [
      "A\n",
      "B\n"
     ]
    }
   ],
   "source": [
    "marks = 85\n",
    "if marks>= 90:\n",
    "    print(\"A+\")\n",
    "if marks>= 80:\n",
    "    print(\"A\")\n",
    "if marks>= 60:\n",
    "    print(\"B\")\n",
    "if marks < 60:\n",
    "    print(\"Fail\")"
   ]
  },
  {
   "cell_type": "code",
   "execution_count": 4,
   "id": "0e33b612",
   "metadata": {},
   "outputs": [
    {
     "name": "stdout",
     "output_type": "stream",
     "text": [
      "A\n"
     ]
    }
   ],
   "source": [
    "marks = 85\n",
    "if marks>= 90:\n",
    "    print(\"A+\")\n",
    "elif marks>= 80:\n",
    "    print(\"A\")\n",
    "elif marks>= 60:\n",
    "    print(\"B\")\n",
    "elif marks < 60:\n",
    "    print(\"Fail\")\n",
    "else:\n",
    "    print(\"invalid marks \")"
   ]
  },
  {
   "cell_type": "code",
   "execution_count": 8,
   "metadata": {},
   "outputs": [
    {
     "name": "stdout",
     "output_type": "stream",
     "text": [
      "eligible for vote\n"
     ]
    }
   ],
   "source": [
    "age=19\n",
    "if ( age>=18):\n",
    "   print(\"eligible for vote\")\n",
    "else:\n",
    "   print(\"not eligible\")"
   ]
  },
  {
   "cell_type": "markdown",
   "id": "fb17c190",
   "metadata": {},
   "source": [
    "- check whether the two side of a rectangle is equal or not\n",
    "- check whether a triagle is an equilateral triangle or iscoceles triangles\n",
    "- check whether a number is an even or odd \n",
    "- check whether a character entered by user is vowel or not\n",
    "- calculate the gross salary of an employee where basic salary is 50,000, TDA is 10% of salary and HRA is 5% of basic salary"
   ]
  },
  {
   "cell_type": "code",
   "execution_count": 10,
   "id": "5927f55b",
   "metadata": {},
   "outputs": [
    {
     "name": "stdout",
     "output_type": "stream",
     "text": [
      "rectangle is not equal\n"
     ]
    }
   ],
   "source": [
    "a=12\n",
    "b=10\n",
    "if (a==b):\n",
    "    print(\"rectangle is equal\")\n",
    "else:\n",
    "    print(\"rectangle is not equal\")\n",
    "    "
   ]
  },
  {
   "cell_type": "code",
   "execution_count": 14,
   "id": "12673cc5",
   "metadata": {},
   "outputs": [
    {
     "name": "stdout",
     "output_type": "stream",
     "text": [
      "triangle is iscoceles\n"
     ]
    }
   ],
   "source": [
    "a=2\n",
    "b=3\n",
    "c=4\n",
    "if(a==b and b==c and c==a):\n",
    "    print(\"triangle is equilateral\")\n",
    "else:\n",
    "    print(\"triangle is iscoceles\")"
   ]
  },
  {
   "cell_type": "code",
   "execution_count": 15,
   "id": "0d3c991d",
   "metadata": {},
   "outputs": [
    {
     "name": "stdout",
     "output_type": "stream",
     "text": [
      "number is even\n"
     ]
    }
   ],
   "source": [
    "a=10\n",
    "if(a%2==0):\n",
    "    print(\"number is even\")\n",
    "else:\n",
    "    print(\"number is odd\")"
   ]
  },
  {
   "cell_type": "code",
   "execution_count": 17,
   "id": "d35ad210",
   "metadata": {},
   "outputs": [
    {
     "name": "stdout",
     "output_type": "stream",
     "text": [
      "inputted character is vowel\n"
     ]
    }
   ],
   "source": [
    "a=input(\"enter a character\")\n",
    "if(a in \"a,e,i,o,u,A,E,I,O,U\"):\n",
    "  print(\"inputted character is vowel\")\n",
    "else:\n",
    "  print(\"inputted character is not vowel\")"
   ]
  },
  {
   "cell_type": "code",
   "execution_count": 19,
   "id": "59e22ad8",
   "metadata": {},
   "outputs": [
    {
     "name": "stdout",
     "output_type": "stream",
     "text": [
      "57500.0\n"
     ]
    }
   ],
   "source": [
    "bs=50000\n",
    "tda=10/100*bs\n",
    "hra=5/100*bs\n",
    "gs=bs+tda+hra\n",
    "print(gs)\n"
   ]
  },
  {
   "cell_type": "code",
   "execution_count": 22,
   "id": "7bdf6f81",
   "metadata": {},
   "outputs": [
    {
     "name": "stdout",
     "output_type": "stream",
     "text": [
      "invalid email\n"
     ]
    }
   ],
   "source": [
    "username=input(\"enter username\")\n",
    "email = input(\"enter the email\")\n",
    "password = input(\"enter the password\")\n",
    "cpass= input (\"enter the password\")\n",
    "if len(username)>5 and len(username)<=20:\n",
    "    if '@'in email and len(username)>10:\n",
    "        if len(password)>=10 and password!=username:\n",
    "            if password == cpass:\n",
    "                print(\"registration sucessfuly done\")\n",
    "            else:\n",
    "                print(\"password doesnot match\")\n",
    "        else:\n",
    "            print(\"incorrect password\")\n",
    "    else:\n",
    "        print(\"invalid email\")\n",
    "else:\n",
    "    print(\"invalid username\")\n",
    "\n"
   ]
  },
  {
   "cell_type": "markdown",
   "id": "2ba17e46",
   "metadata": {},
   "source": [
    "- check whether a number is prime or not"
   ]
  },
  {
   "cell_type": "code",
   "execution_count": 15,
   "id": "7e9263f6",
   "metadata": {},
   "outputs": [
    {
     "name": "stdout",
     "output_type": "stream",
     "text": [
      "number is not prime\n"
     ]
    }
   ],
   "source": [
    "num=int(input(\"enter a number\"))\n",
    "if (num<2):\n",
    "    print(\"not a prime \")\n",
    "else:\n",
    "\n",
    "    for i in range(2,num):\n",
    "        if num%i==0:\n",
    "            print(\"number is not prime\")\n",
    "            break\n",
    "        else:\n",
    "        \n",
    "            print(\"number is prime\")"
   ]
  },
  {
   "cell_type": "code",
   "execution_count": null,
   "metadata": {},
   "outputs": [],
   "source": []
  }
 ],
 "metadata": {
  "kernelspec": {
   "display_name": "base",
   "language": "python",
   "name": "python3"
  },
  "language_info": {
   "codemirror_mode": {
    "name": "ipython",
    "version": 3
   },
   "file_extension": ".py",
   "mimetype": "text/x-python",
   "name": "python",
   "nbconvert_exporter": "python",
   "pygments_lexer": "ipython3",
   "version": "3.13.2"
  }
 },
 "nbformat": 4,
 "nbformat_minor": 5
}
