{
 "cells": [
  {
   "cell_type": "markdown",
   "id": "113c2348",
   "metadata": {},
   "source": [
    "#### WAP to reverse a number\n"
   ]
  },
  {
   "cell_type": "code",
   "execution_count": null,
   "id": "695d33cc",
   "metadata": {},
   "outputs": [],
   "source": [
    "num=int(input(\"enter a number\"))\n",
    "rev=0\n",
    "while(num>0):\n",
    "    d=num%10\n",
    "    rev=rev*10+d\n",
    "    num=num//10\n",
    "print(\"reversed number is\",rev)"
   ]
  },
  {
   "cell_type": "markdown",
   "id": "629b4e15",
   "metadata": {},
   "source": [
    "#### WAP to find whether a number is armstrong or not\n"
   ]
  },
  {
   "cell_type": "code",
   "execution_count": null,
   "id": "209b9ce6",
   "metadata": {},
   "outputs": [],
   "source": [
    "\n",
    "num=int(input(\"enter a number\"))\n",
    "pal=num\n",
    "rev=0\n",
    "while(num>0):\n",
    "    d=num%10\n",
    "    rev=rev+d**3\n",
    "    num=num//10\n",
    "if rev==pal:\n",
    "    print(\"it is armstrong\")\n",
    "else:\n",
    "    print(\"it is not armstrong\")"
   ]
  },
  {
   "cell_type": "markdown",
   "id": "a6810d1c",
   "metadata": {},
   "source": [
    "#### WAP to check whether a number is palindrome or not\n"
   ]
  },
  {
   "cell_type": "code",
   "execution_count": null,
   "id": "f09ac7b5",
   "metadata": {},
   "outputs": [],
   "source": [
    "num=int(input(\"enter a number\"))\n",
    "pal=num\n",
    "rev=0\n",
    "while(num>0):\n",
    "    d=num%10\n",
    "    rev=rev*10+d\n",
    "    num=num//10\n",
    "if rev==pal:\n",
    "    print(\"it is palindrome\")\n",
    "else:\n",
    "    print(\"it is not palindrome\")"
   ]
  },
  {
   "cell_type": "markdown",
   "id": "33a4d778",
   "metadata": {},
   "source": [
    "#### WAP to check whether a number is spy or not"
   ]
  },
  {
   "cell_type": "code",
   "execution_count": 8,
   "id": "5de53d07",
   "metadata": {},
   "outputs": [
    {
     "name": "stdout",
     "output_type": "stream",
     "text": [
      "it is spy\n"
     ]
    }
   ],
   "source": [
    "num=int(input(\"enter a number\"))\n",
    "pal=num\n",
    "sum=0\n",
    "pro=1\n",
    "while(num>0):\n",
    "    d=num%10\n",
    "    sum=sum+d\n",
    "    pro=pro*d\n",
    "    num=num//10\n",
    "if sum==pro:\n",
    "    print(\"it is spy\")\n",
    "else:\n",
    "    print(\"it is not spy\")"
   ]
  },
  {
   "cell_type": "code",
   "execution_count": null,
   "id": "3ac1e88a",
   "metadata": {},
   "outputs": [],
   "source": []
  },
  {
   "cell_type": "code",
   "execution_count": null,
   "id": "d1b717c6",
   "metadata": {},
   "outputs": [],
   "source": []
  },
  {
   "cell_type": "code",
   "execution_count": null,
   "id": "54a9ae78",
   "metadata": {},
   "outputs": [],
   "source": []
  }
 ],
 "metadata": {
  "kernelspec": {
   "display_name": "base",
   "language": "python",
   "name": "python3"
  },
  "language_info": {
   "codemirror_mode": {
    "name": "ipython",
    "version": 3
   },
   "file_extension": ".py",
   "mimetype": "text/x-python",
   "name": "python",
   "nbconvert_exporter": "python",
   "pygments_lexer": "ipython3",
   "version": "3.13.2"
  }
 },
 "nbformat": 4,
 "nbformat_minor": 5
}
