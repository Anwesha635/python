{
 "cells": [
  {
   "cell_type": "code",
   "execution_count": 8,
   "id": "2903f454",
   "metadata": {},
   "outputs": [
    {
     "name": "stdout",
     "output_type": "stream",
     "text": [
      "\n"
     ]
    }
   ],
   "source": [
    "file=open('file.txt','r')\n",
    "print(file.read())"
   ]
  },
  {
   "cell_type": "code",
   "execution_count": 9,
   "id": "3d8e0966",
   "metadata": {},
   "outputs": [
    {
     "name": "stdout",
     "output_type": "stream",
     "text": [
      "written successfully\n",
      "helllo buddy\n"
     ]
    }
   ],
   "source": [
    "file=open('file.txt','w')  #open file in write mode\n",
    "file.write('helllo buddy')  #write to the file\n",
    "print('written successfully')  \n",
    "file=open('file.txt','r')  #open file in read mode\n",
    "print(file.read()) #read the file"
   ]
  },
  {
   "cell_type": "code",
   "execution_count": 10,
   "metadata": {},
   "outputs": [
    {
     "name": "stdout",
     "output_type": "stream",
     "text": [
      "file append succefully \n",
      "helllo buddy\n",
      "How are you??\n"
     ]
    }
   ],
   "source": [
    "file=open('file.txt','a')#open file in append mode\n",
    "file.write('\\nHow are you??') #to append to the file \n",
    "print(\"file append succefully \")\n",
    "file=open('file.txt','r') #open the fil ein read mode\n",
    "print(file.read()) # to read the file"
   ]
  },
  {
   "cell_type": "code",
   "execution_count": 21,
   "id": "ee97e7b6",
   "metadata": {},
   "outputs": [],
   "source": [
    "import os"
   ]
  },
  {
   "cell_type": "code",
   "execution_count": 13,
   "id": "ba824789",
   "metadata": {},
   "outputs": [
    {
     "name": "stdout",
     "output_type": "stream",
     "text": [
      "current working directory: c:\\Users\\Anwesha Shah\\Desktop\\First\n"
     ]
    }
   ],
   "source": [
    "#to get the current working directory\n",
    "print('current working directory:',os.getcwd())"
   ]
  },
  {
   "cell_type": "code",
   "execution_count": 22,
   "id": "552a69ea",
   "metadata": {},
   "outputs": [
    {
     "name": "stdout",
     "output_type": "stream",
     "text": [
      "files in th current directory: ['.git', 'condition.ipynb', 'Data structure', 'dayatype.ipynb', 'exercises.ipynb', 'file.txt', 'filehanlding.ipynb', 'first.ipynb', 'library.ipynb', 'loop.ipynb', 'numpy.ipynb', 'operator.ipynb', 'README.md']\n"
     ]
    }
   ],
   "source": [
    "files=os.listdir() #list all files in the current directory\n",
    "print('files in th current directory:',files)"
   ]
  },
  {
   "cell_type": "code",
   "execution_count": 23,
   "id": "bdd26810",
   "metadata": {},
   "outputs": [
    {
     "name": "stdout",
     "output_type": "stream",
     "text": [
      "files in th current directory: ['.git', 'condition.ipynb', 'Data structure', 'dayatype.ipynb', 'exercises.ipynb', 'file.txt', 'filehanlding.ipynb', 'first.ipynb', 'library.ipynb', 'loop.ipynb', 'numpy.ipynb', 'operator.ipynb', 'README.md']\n"
     ]
    }
   ],
   "source": [
    "\n",
    "files=os.listdir(r'c:\\Users\\Anwesha Shah\\Desktop\\First') #list all files in the current directory\n",
    "print('files in th current directory:',files)"
   ]
  },
  {
   "cell_type": "code",
   "execution_count": 25,
   "id": "b6de109d",
   "metadata": {},
   "outputs": [
    {
     "name": "stdout",
     "output_type": "stream",
     "text": [
      "=> c:\\Users\\Anwesha Shah\\Desktop\\First\n",
      "files: ['condition.ipynb', 'dayatype.ipynb', 'exercises.ipynb', 'file.txt', 'filehanlding.ipynb', 'first.ipynb', 'library.ipynb', 'loop.ipynb', 'numpy.ipynb', 'operator.ipynb', 'README.md']\n",
      "=> c:\\Users\\Anwesha Shah\\Desktop\\First\\.git\n",
      "files: ['COMMIT_EDITMSG', 'config', 'description', 'FETCH_HEAD', 'HEAD', 'index', 'ORIG_HEAD']\n",
      "=> c:\\Users\\Anwesha Shah\\Desktop\\First\\.git\\hooks\n",
      "files: ['applypatch-msg.sample', 'commit-msg.sample', 'fsmonitor-watchman.sample', 'post-update.sample', 'pre-applypatch.sample', 'pre-commit.sample', 'pre-merge-commit.sample', 'pre-push.sample', 'pre-rebase.sample', 'pre-receive.sample', 'prepare-commit-msg.sample', 'push-to-checkout.sample', 'sendemail-validate.sample', 'update.sample']\n",
      "=> c:\\Users\\Anwesha Shah\\Desktop\\First\\.git\\info\n",
      "files: ['exclude']\n",
      "=> c:\\Users\\Anwesha Shah\\Desktop\\First\\.git\\logs\n",
      "files: ['HEAD']\n",
      "=> c:\\Users\\Anwesha Shah\\Desktop\\First\\.git\\logs\\refs\n",
      "files: []\n",
      "=> c:\\Users\\Anwesha Shah\\Desktop\\First\\.git\\logs\\refs\\heads\n",
      "files: ['main']\n",
      "=> c:\\Users\\Anwesha Shah\\Desktop\\First\\.git\\logs\\refs\\remotes\n",
      "files: []\n",
      "=> c:\\Users\\Anwesha Shah\\Desktop\\First\\.git\\logs\\refs\\remotes\\origin\n",
      "files: ['HEAD', 'main']\n",
      "=> c:\\Users\\Anwesha Shah\\Desktop\\First\\.git\\objects\n",
      "files: []\n",
      "=> c:\\Users\\Anwesha Shah\\Desktop\\First\\.git\\objects\\04\n",
      "files: ['e721013e883ea96e0a19214f0bc88cf2507163']\n",
      "=> c:\\Users\\Anwesha Shah\\Desktop\\First\\.git\\objects\\13\n",
      "files: ['bc53115d63230b97730e2dba84612bd53b7e39']\n",
      "=> c:\\Users\\Anwesha Shah\\Desktop\\First\\.git\\objects\\16\n",
      "files: ['4a99a7107c998e109ad8e768184ec2ebe5f591']\n",
      "=> c:\\Users\\Anwesha Shah\\Desktop\\First\\.git\\objects\\1f\n",
      "files: ['9dac03c9fad2d95e7b05c83d226f3ad3d4c32d']\n",
      "=> c:\\Users\\Anwesha Shah\\Desktop\\First\\.git\\objects\\23\n",
      "files: ['38e1e39d8b6eb7fd04803ef2380589bc1fa558']\n",
      "=> c:\\Users\\Anwesha Shah\\Desktop\\First\\.git\\objects\\3e\n",
      "files: ['3d13609a1f28edb20141d738d12f1955e89ccf']\n",
      "=> c:\\Users\\Anwesha Shah\\Desktop\\First\\.git\\objects\\48\n",
      "files: ['4ff1e71ba73c054584006d89772e09cecf1ed3']\n",
      "=> c:\\Users\\Anwesha Shah\\Desktop\\First\\.git\\objects\\65\n",
      "files: ['0ccc63a7d448007d4ebf6702152cfd290dad04']\n",
      "=> c:\\Users\\Anwesha Shah\\Desktop\\First\\.git\\objects\\6a\n",
      "files: ['82184d1b4ff37494cde5b563dfb0d6e61c0489']\n",
      "=> c:\\Users\\Anwesha Shah\\Desktop\\First\\.git\\objects\\71\n",
      "files: ['6fa966a684c7f7f87eb229b7a57c319a4b5a07']\n",
      "=> c:\\Users\\Anwesha Shah\\Desktop\\First\\.git\\objects\\9e\n",
      "files: ['2251f335a0ae46964bf40de00e0dbcc408fd8e']\n",
      "=> c:\\Users\\Anwesha Shah\\Desktop\\First\\.git\\objects\\a2\n",
      "files: ['c2e4fbc01b7fbe5645a6db5f3aa149c9c48c3b']\n",
      "=> c:\\Users\\Anwesha Shah\\Desktop\\First\\.git\\objects\\b7\n",
      "files: ['084070bf9afea397f3f6b9a0f94e7c489920ee']\n",
      "=> c:\\Users\\Anwesha Shah\\Desktop\\First\\.git\\objects\\bf\n",
      "files: ['29eb0bd622b88a28f4d7b30107a69844e9b8ab']\n",
      "=> c:\\Users\\Anwesha Shah\\Desktop\\First\\.git\\objects\\c9\n",
      "files: ['2cff5003e6acf308d331aa6d37c27f95cf5e2a']\n",
      "=> c:\\Users\\Anwesha Shah\\Desktop\\First\\.git\\objects\\d4\n",
      "files: ['9537d66e6dbeaf26188a8502f354d9febbc278']\n",
      "=> c:\\Users\\Anwesha Shah\\Desktop\\First\\.git\\objects\\e9\n",
      "files: ['809341d590276e70de2c80ec53b5856712c0b8', '83a46f4df6a048a1a46d29c879b1a01598da64']\n",
      "=> c:\\Users\\Anwesha Shah\\Desktop\\First\\.git\\objects\\info\n",
      "files: []\n",
      "=> c:\\Users\\Anwesha Shah\\Desktop\\First\\.git\\objects\\pack\n",
      "files: []\n",
      "=> c:\\Users\\Anwesha Shah\\Desktop\\First\\.git\\refs\n",
      "files: []\n",
      "=> c:\\Users\\Anwesha Shah\\Desktop\\First\\.git\\refs\\heads\n",
      "files: ['main']\n",
      "=> c:\\Users\\Anwesha Shah\\Desktop\\First\\.git\\refs\\remotes\n",
      "files: []\n",
      "=> c:\\Users\\Anwesha Shah\\Desktop\\First\\.git\\refs\\remotes\\origin\n",
      "files: ['HEAD', 'main']\n",
      "=> c:\\Users\\Anwesha Shah\\Desktop\\First\\.git\\refs\\tags\n",
      "files: []\n",
      "=> c:\\Users\\Anwesha Shah\\Desktop\\First\\Data structure\n",
      "files: ['dictionary.ipynb', 'function.ipynb', 'list.ipynb', 'sets.ipynb', 'string.ipynb']\n"
     ]
    }
   ],
   "source": [
    "total_files=0\n",
    "for path,folder,files in os.walk(r'c:\\Users\\Anwesha Shah\\Desktop\\First'):\n",
    "    print(\"=>\",path)\n",
    "    \n",
    "    print('files:',files)\n",
    "    total_files+=len(files)"
   ]
  },
  {
   "cell_type": "code",
   "execution_count": null,
   "id": "83173d95",
   "metadata": {},
   "outputs": [],
   "source": []
  },
  {
   "cell_type": "code",
   "execution_count": null,
   "id": "15b99d9d",
   "metadata": {},
   "outputs": [],
   "source": []
  },
  {
   "cell_type": "code",
   "execution_count": null,
   "id": "9e7a25c6",
   "metadata": {},
   "outputs": [],
   "source": []
  }
 ],
 "metadata": {
  "kernelspec": {
   "display_name": "base",
   "language": "python",
   "name": "python3"
  },
  "language_info": {
   "codemirror_mode": {
    "name": "ipython",
    "version": 3
   },
   "file_extension": ".py",
   "mimetype": "text/x-python",
   "name": "python",
   "nbconvert_exporter": "python",
   "pygments_lexer": "ipython3",
   "version": "3.13.2"
  }
 },
 "nbformat": 4,
 "nbformat_minor": 5
}
