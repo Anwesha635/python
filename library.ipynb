{
 "cells": [
  {
   "cell_type": "code",
   "execution_count": null,
   "id": "e8f329a1",
   "metadata": {},
   "outputs": [],
   "source": [
    "import math"
   ]
  },
  {
   "cell_type": "code",
   "execution_count": null,
   "id": "37356124",
   "metadata": {},
   "outputs": [],
   "source": [
    "print(math.factorial(5))\n",
    "print(math.pi)\n",
    "print(math.sqrt(16))\n",
    "print(math.pow(2,3))\n",
    "print(math.gcd(48,18))\n",
    "print(math.lcm(12,15))\n",
    "print(math.sin(0))\n",
    "print(math.tan(1))\n",
    "print(math.log(100,10))\n"
   ]
  },
  {
   "cell_type": "code",
   "execution_count": null,
   "metadata": {},
   "outputs": [],
   "source": [
    "from random import random,randint,choice,shuffle"
   ]
  },
  {
   "cell_type": "code",
   "execution_count": null,
   "id": "8f98256c",
   "metadata": {},
   "outputs": [],
   "source": [
    "import random"
   ]
  },
  {
   "cell_type": "code",
   "execution_count": 17,
   "metadata": {},
   "outputs": [
    {
     "name": "stdout",
     "output_type": "stream",
     "text": [
      "random number nearest to 0: 0.7659354611418859\n",
      "random number between 1 and 100 8\n",
      "random number from list: cherry\n",
      "shuffled name: ['john', 'alice', 'diana', 'bob']\n"
     ]
    }
   ],
   "source": [
    "print('random number nearest to 0:',random.random())\n",
    "print('random number between 1 and 100',random.randint(1,100))\n",
    "print('random number from list:',random.choice(['apple','banana','cherry']))\n",
    "name=['john','alice','bob','diana']\n",
    "random.shuffle(name)\n",
    "print('shuffled name:',name)"
   ]
  },
  {
   "cell_type": "code",
   "execution_count": 29,
   "id": "c3730df8",
   "metadata": {},
   "outputs": [],
   "source": [
    "from datetime import datetime as dt"
   ]
  },
  {
   "cell_type": "code",
   "execution_count": 30,
   "metadata": {},
   "outputs": [
    {
     "name": "stdout",
     "output_type": "stream",
     "text": [
      "current date and time: 2025-07-17 13:38:44.696014\n"
     ]
    }
   ],
   "source": [
    "print('current date and time:',dt.now())"
   ]
  },
  {
   "cell_type": "code",
   "execution_count": 31,
   "metadata": {},
   "outputs": [
    {
     "name": "stdout",
     "output_type": "stream",
     "text": [
      "current date : 2025-07-17\n",
      "current time : 13:38:47.203799\n"
     ]
    }
   ],
   "source": [
    "print('current date :',dt.now().date())\n",
    "print('current time :',dt.now().time())"
   ]
  },
  {
   "cell_type": "code",
   "execution_count": 33,
   "id": "1d1e563b",
   "metadata": {},
   "outputs": [
    {
     "name": "stdout",
     "output_type": "stream",
     "text": [
      "current month : 7\n",
      "current year : 2025\n",
      "current hour : 13\n",
      "current day : 17\n",
      "current minute : 39\n",
      "current second: 11\n",
      "current weekday : 3\n"
     ]
    }
   ],
   "source": [
    "print('current month :',dt.now().month)\n",
    "print('current year :',dt.now().year)\n",
    "print('current hour :',dt.now().hour)\n",
    "print('current day :',dt.now().day)\n",
    "print('current minute :',dt.now().minute)\n",
    "print('current second:',dt.now().second)\n",
    "print('current weekday :',dt.now().weekday())"
   ]
  },
  {
   "cell_type": "code",
   "execution_count": 34,
   "id": "ded2f1bf",
   "metadata": {},
   "outputs": [
    {
     "name": "stdout",
     "output_type": "stream",
     "text": [
      "formatted date: 17/07/2025\n"
     ]
    }
   ],
   "source": [
    "#date formatting\n",
    "print('formatted date:',dt.now().strftime('%d/%m/%Y'))"
   ]
  },
  {
   "cell_type": "code",
   "execution_count": 35,
   "id": "bfb445c5",
   "metadata": {},
   "outputs": [
    {
     "name": "stdout",
     "output_type": "stream",
     "text": [
      "formatted time: 13/43/13\n"
     ]
    }
   ],
   "source": [
    "#time formatting\n",
    "print('formatted time:',dt.now().strftime('%H/%M/%S'))"
   ]
  },
  {
   "cell_type": "code",
   "execution_count": null,
   "id": "9db7b919",
   "metadata": {},
   "outputs": [],
   "source": []
  },
  {
   "cell_type": "code",
   "execution_count": null,
   "id": "9d8e43b2",
   "metadata": {},
   "outputs": [],
   "source": []
  },
  {
   "cell_type": "code",
   "execution_count": null,
   "id": "f01d2306",
   "metadata": {},
   "outputs": [],
   "source": []
  }
 ],
 "metadata": {
  "kernelspec": {
   "display_name": "base",
   "language": "python",
   "name": "python3"
  },
  "language_info": {
   "codemirror_mode": {
    "name": "ipython",
    "version": 3
   },
   "file_extension": ".py",
   "mimetype": "text/x-python",
   "name": "python",
   "nbconvert_exporter": "python",
   "pygments_lexer": "ipython3",
   "version": "3.13.2"
  }
 },
 "nbformat": 4,
 "nbformat_minor": 5
}
