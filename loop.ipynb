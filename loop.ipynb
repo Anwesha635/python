{
 "cells": [
  {
   "cell_type": "code",
   "execution_count": null,
   "id": "cf4421d3",
   "metadata": {},
   "outputs": [],
   "source": []
  },
  {
   "cell_type": "code",
   "execution_count": null,
   "id": "92065efe",
   "metadata": {},
   "outputs": [],
   "source": []
  },
  {
   "cell_type": "code",
   "execution_count": null,
   "id": "cddef557",
   "metadata": {},
   "outputs": [],
   "source": []
  },
  {
   "cell_type": "markdown",
   "id": "3646af62",
   "metadata": {},
   "source": [
    "#### Write a program to print numbers from 1 to 10 using a for loop."
   ]
  },
  {
   "cell_type": "code",
   "execution_count": null,
   "id": "13a2a04e",
   "metadata": {},
   "outputs": [],
   "source": [
    "\n",
    "a=int(input(\"enter a number\"))\n",
    "for i in range(1,a):\n",
    "     print(i)"
   ]
  },
  {
   "cell_type": "markdown",
   "id": "c3641675",
   "metadata": {},
   "source": [
    "#### Write a program to print the multiplication table of a given number using a while loop."
   ]
  },
  {
   "cell_type": "code",
   "execution_count": null,
   "id": "1ccfa03b",
   "metadata": {},
   "outputs": [],
   "source": [
    "a=int(input(\"enter a number\"))\n",
    "i=1\n",
    "while(i<=10):\n",
    "      c=a*i\n",
    "      i+=1\n",
    "      print(c)"
   ]
  },
  {
   "cell_type": "markdown",
   "id": "27d0eaf0",
   "metadata": {},
   "source": [
    "#### Write a program to find the sum of all even numbers between 1 and 100 using a for loop."
   ]
  },
  {
   "cell_type": "code",
   "execution_count": null,
   "id": "aa209ce0",
   "metadata": {},
   "outputs": [],
   "source": [
    "a=int(input(\"enter a number\"))\n",
    "for i in range(0,a,):\n",
    "   if (i%2==0):\n",
    "     print(i)"
   ]
  },
  {
   "cell_type": "markdown",
   "id": "26cdb4ff",
   "metadata": {},
   "source": [
    "#### Write a program to check if a given number is prime or not using a while loop."
   ]
  },
  {
   "cell_type": "code",
   "execution_count": null,
   "id": "16ede8a1",
   "metadata": {},
   "outputs": [],
   "source": [
    "a=int(input(\"enter a number\"))\n",
    "i=2\n",
    "\n",
    "\n",
    "while(a>=i):\n",
    "    if(a%i==0):\n",
    "        print(\"not a prime number\")\n",
    "    else:\n",
    "        print(\"prime number\")\n",
    "        \n",
    "\n",
    "      "
   ]
  },
  {
   "cell_type": "markdown",
   "id": "9a1d4ebe",
   "metadata": {},
   "source": [
    "#### Write a program to calculate the factorial of a number using a for loop."
   ]
  },
  {
   "cell_type": "code",
   "execution_count": null,
   "id": "d791bf13",
   "metadata": {},
   "outputs": [],
   "source": []
  },
  {
   "cell_type": "markdown",
   "id": "b599c433",
   "metadata": {},
   "source": [
    "#### Write a program to reverse a given string using a while loop."
   ]
  },
  {
   "cell_type": "code",
   "execution_count": null,
   "metadata": {},
   "outputs": [],
   "source": [
    "a=input(\"input a string\")\n",
    "i=0\n",
    "while(i<=a):\n",
    "    i-=1\n",
    "    print(i)\n",
    "     "
   ]
  },
  {
   "cell_type": "code",
   "execution_count": null,
   "id": "79be7060",
   "metadata": {},
   "outputs": [],
   "source": []
  },
  {
   "cell_type": "code",
   "execution_count": null,
   "metadata": {},
   "outputs": [],
   "source": []
  },
  {
   "cell_type": "code",
   "execution_count": null,
   "metadata": {},
   "outputs": [],
   "source": []
  },
  {
   "cell_type": "code",
   "execution_count": null,
   "id": "39eba41b",
   "metadata": {},
   "outputs": [],
   "source": []
  },
  {
   "cell_type": "code",
   "execution_count": null,
   "id": "d50f6c3d",
   "metadata": {},
   "outputs": [],
   "source": []
  },
  {
   "cell_type": "code",
   "execution_count": null,
   "id": "b6e96bed",
   "metadata": {},
   "outputs": [],
   "source": []
  },
  {
   "cell_type": "code",
   "execution_count": null,
   "metadata": {},
   "outputs": [],
   "source": []
  },
  {
   "cell_type": "code",
   "execution_count": null,
   "id": "3c68d4c4",
   "metadata": {},
   "outputs": [],
   "source": []
  }
 ],
 "metadata": {
  "kernelspec": {
   "display_name": "base",
   "language": "python",
   "name": "python3"
  },
  "language_info": {
   "codemirror_mode": {
    "name": "ipython",
    "version": 3
   },
   "file_extension": ".py",
   "mimetype": "text/x-python",
   "name": "python",
   "nbconvert_exporter": "python",
   "pygments_lexer": "ipython3",
   "version": "3.13.2"
  }
 },
 "nbformat": 4,
 "nbformat_minor": 5
}
